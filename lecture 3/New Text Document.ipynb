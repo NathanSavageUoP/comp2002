{
 "nbformat": 4,
 "nbformat_minor": 0,
 "metadata": {
  "colab": {
   "provenance": [],
   "authorship_tag": "ABX9TyMVrsJEBWQ7t/s9ClntHh3B"
  },
  "kernelspec": {
   "name": "python3",
   "display_name": "Python 3"
  },
  "language_info": {
   "name": "python"
  }
 },
 "cells": [
  {
   "cell_type": "code",
   "execution_count": 17,
   "metadata": {
    "colab": {
     "base_uri": "https://localhost:8080/"
    },
    "id": "NbCBOmN3ybrN",
    "executionInfo": {
     "status": "ok",
     "timestamp": 1677853495768,
     "user_tz": 0,
     "elapsed": 2,
     "user": {
      "displayName": "David Walker",
      "userId": "07818026488201532539"
     }
    },
    "outputId": "81f08469-b527-46bc-8adc-8072c7cbd29d"
   },
   "outputs": [
    {
     "name": "stdout",
     "output_type": "stream",
     "text": [
      "dict_keys(['data', 'target', 'frame', 'target_names', 'DESCR', 'feature_names', 'filename', 'data_module'])\n",
      "[0 0 0 0 0 0 0 0 0 0 0 0 0 0 0 0 0 0 0 0 0 0 0 0 0 0 0 0 0 0 0 0 0 0 0 0 0\n",
      " 0 0 0 0 0 0 0 0 0 0 0 0 0 1 1 1 1 1 1 1 1 1 1 1 1 1 1 1 1 1 1 1 1 1 1 1 1\n",
      " 1 1 1 1 1 1 1 1 1 1 1 1 1 1 1 1 1 1 1 1 1 1 1 1 1 1 2 2 2 2 2 2 2 2 2 2 2\n",
      " 2 2 2 2 2 2 2 2 2 2 2 2 2 2 2 2 2 2 2 2 2 2 2 2 2 2 2 2 2 2 2 2 2 2 2 2 2\n",
      " 2 2]\n",
      "150\n",
      "['setosa' 'versicolor' 'virginica']\n",
      "['sepal length (cm)', 'sepal width (cm)', 'petal length (cm)', 'petal width (cm)']\n",
      "[[5.1 3.5 1.4 0.2]\n",
      " [4.9 3.  1.4 0.2]\n",
      " [4.7 3.2 1.3 0.2]\n",
      " [4.6 3.1 1.5 0.2]\n",
      " [5.  3.6 1.4 0.2]\n",
      " [5.4 3.9 1.7 0.4]\n",
      " [4.6 3.4 1.4 0.3]\n",
      " [5.  3.4 1.5 0.2]\n",
      " [4.4 2.9 1.4 0.2]\n",
      " [4.9 3.1 1.5 0.1]\n",
      " [5.4 3.7 1.5 0.2]\n",
      " [4.8 3.4 1.6 0.2]\n",
      " [4.8 3.  1.4 0.1]\n",
      " [4.3 3.  1.1 0.1]\n",
      " [5.8 4.  1.2 0.2]\n",
      " [5.7 4.4 1.5 0.4]\n",
      " [5.4 3.9 1.3 0.4]\n",
      " [5.1 3.5 1.4 0.3]\n",
      " [5.7 3.8 1.7 0.3]\n",
      " [5.1 3.8 1.5 0.3]\n",
      " [5.4 3.4 1.7 0.2]\n",
      " [5.1 3.7 1.5 0.4]\n",
      " [4.6 3.6 1.  0.2]\n",
      " [5.1 3.3 1.7 0.5]\n",
      " [4.8 3.4 1.9 0.2]\n",
      " [5.  3.  1.6 0.2]\n",
      " [5.  3.4 1.6 0.4]\n",
      " [5.2 3.5 1.5 0.2]\n",
      " [5.2 3.4 1.4 0.2]\n",
      " [4.7 3.2 1.6 0.2]\n",
      " [4.8 3.1 1.6 0.2]\n",
      " [5.4 3.4 1.5 0.4]\n",
      " [5.2 4.1 1.5 0.1]\n",
      " [5.5 4.2 1.4 0.2]\n",
      " [4.9 3.1 1.5 0.2]\n",
      " [5.  3.2 1.2 0.2]\n",
      " [5.5 3.5 1.3 0.2]\n",
      " [4.9 3.6 1.4 0.1]\n",
      " [4.4 3.  1.3 0.2]\n",
      " [5.1 3.4 1.5 0.2]\n",
      " [5.  3.5 1.3 0.3]\n",
      " [4.5 2.3 1.3 0.3]\n",
      " [4.4 3.2 1.3 0.2]\n",
      " [5.  3.5 1.6 0.6]\n",
      " [5.1 3.8 1.9 0.4]\n",
      " [4.8 3.  1.4 0.3]\n",
      " [5.1 3.8 1.6 0.2]\n",
      " [4.6 3.2 1.4 0.2]\n",
      " [5.3 3.7 1.5 0.2]\n",
      " [5.  3.3 1.4 0.2]\n",
      " [7.  3.2 4.7 1.4]\n",
      " [6.4 3.2 4.5 1.5]\n",
      " [6.9 3.1 4.9 1.5]\n",
      " [5.5 2.3 4.  1.3]\n",
      " [6.5 2.8 4.6 1.5]\n",
      " [5.7 2.8 4.5 1.3]\n",
      " [6.3 3.3 4.7 1.6]\n",
      " [4.9 2.4 3.3 1. ]\n",
      " [6.6 2.9 4.6 1.3]\n",
      " [5.2 2.7 3.9 1.4]\n",
      " [5.  2.  3.5 1. ]\n",
      " [5.9 3.  4.2 1.5]\n",
      " [6.  2.2 4.  1. ]\n",
      " [6.1 2.9 4.7 1.4]\n",
      " [5.6 2.9 3.6 1.3]\n",
      " [6.7 3.1 4.4 1.4]\n",
      " [5.6 3.  4.5 1.5]\n",
      " [5.8 2.7 4.1 1. ]\n",
      " [6.2 2.2 4.5 1.5]\n",
      " [5.6 2.5 3.9 1.1]\n",
      " [5.9 3.2 4.8 1.8]\n",
      " [6.1 2.8 4.  1.3]\n",
      " [6.3 2.5 4.9 1.5]\n",
      " [6.1 2.8 4.7 1.2]\n",
      " [6.4 2.9 4.3 1.3]\n",
      " [6.6 3.  4.4 1.4]\n",
      " [6.8 2.8 4.8 1.4]\n",
      " [6.7 3.  5.  1.7]\n",
      " [6.  2.9 4.5 1.5]\n",
      " [5.7 2.6 3.5 1. ]\n",
      " [5.5 2.4 3.8 1.1]\n",
      " [5.5 2.4 3.7 1. ]\n",
      " [5.8 2.7 3.9 1.2]\n",
      " [6.  2.7 5.1 1.6]\n",
      " [5.4 3.  4.5 1.5]\n",
      " [6.  3.4 4.5 1.6]\n",
      " [6.7 3.1 4.7 1.5]\n",
      " [6.3 2.3 4.4 1.3]\n",
      " [5.6 3.  4.1 1.3]\n",
      " [5.5 2.5 4.  1.3]\n",
      " [5.5 2.6 4.4 1.2]\n",
      " [6.1 3.  4.6 1.4]\n",
      " [5.8 2.6 4.  1.2]\n",
      " [5.  2.3 3.3 1. ]\n",
      " [5.6 2.7 4.2 1.3]\n",
      " [5.7 3.  4.2 1.2]\n",
      " [5.7 2.9 4.2 1.3]\n",
      " [6.2 2.9 4.3 1.3]\n",
      " [5.1 2.5 3.  1.1]\n",
      " [5.7 2.8 4.1 1.3]\n",
      " [6.3 3.3 6.  2.5]\n",
      " [5.8 2.7 5.1 1.9]\n",
      " [7.1 3.  5.9 2.1]\n",
      " [6.3 2.9 5.6 1.8]\n",
      " [6.5 3.  5.8 2.2]\n",
      " [7.6 3.  6.6 2.1]\n",
      " [4.9 2.5 4.5 1.7]\n",
      " [7.3 2.9 6.3 1.8]\n",
      " [6.7 2.5 5.8 1.8]\n",
      " [7.2 3.6 6.1 2.5]\n",
      " [6.5 3.2 5.1 2. ]\n",
      " [6.4 2.7 5.3 1.9]\n",
      " [6.8 3.  5.5 2.1]\n",
      " [5.7 2.5 5.  2. ]\n",
      " [5.8 2.8 5.1 2.4]\n",
      " [6.4 3.2 5.3 2.3]\n",
      " [6.5 3.  5.5 1.8]\n",
      " [7.7 3.8 6.7 2.2]\n",
      " [7.7 2.6 6.9 2.3]\n",
      " [6.  2.2 5.  1.5]\n",
      " [6.9 3.2 5.7 2.3]\n",
      " [5.6 2.8 4.9 2. ]\n",
      " [7.7 2.8 6.7 2. ]\n",
      " [6.3 2.7 4.9 1.8]\n",
      " [6.7 3.3 5.7 2.1]\n",
      " [7.2 3.2 6.  1.8]\n",
      " [6.2 2.8 4.8 1.8]\n",
      " [6.1 3.  4.9 1.8]\n",
      " [6.4 2.8 5.6 2.1]\n",
      " [7.2 3.  5.8 1.6]\n",
      " [7.4 2.8 6.1 1.9]\n",
      " [7.9 3.8 6.4 2. ]\n",
      " [6.4 2.8 5.6 2.2]\n",
      " [6.3 2.8 5.1 1.5]\n",
      " [6.1 2.6 5.6 1.4]\n",
      " [7.7 3.  6.1 2.3]\n",
      " [6.3 3.4 5.6 2.4]\n",
      " [6.4 3.1 5.5 1.8]\n",
      " [6.  3.  4.8 1.8]\n",
      " [6.9 3.1 5.4 2.1]\n",
      " [6.7 3.1 5.6 2.4]\n",
      " [6.9 3.1 5.1 2.3]\n",
      " [5.8 2.7 5.1 1.9]\n",
      " [6.8 3.2 5.9 2.3]\n",
      " [6.7 3.3 5.7 2.5]\n",
      " [6.7 3.  5.2 2.3]\n",
      " [6.3 2.5 5.  1.9]\n",
      " [6.5 3.  5.2 2. ]\n",
      " [6.2 3.4 5.4 2.3]\n",
      " [5.9 3.  5.1 1.8]]\n"
     ]
    }
   ],
   "source": [
    "import numpy as np\n",
    "import matplotlib.pyplot as plt\n",
    "\n",
    "from sklearn.datasets import load_iris\n",
    "iris = load_iris()\n",
    "print(iris.keys())\n",
    "print(iris.target)\n",
    "print(len(iris.target))\n",
    "print(iris.target_names)\n",
    "print(iris.feature_names)\n",
    "print(iris.data)"
   ]
  },
  {
   "cell_type": "code",
   "source": [
    "I = np.array([x for x in \"abcdefghij\"])\n",
    "print(I)\n",
    "J = np.random.permutation(len(I))\n",
    "print(J)\n",
    "print(I[J])\n",
    "\n",
    "Jiris = np.random.permutation(150)\n",
    "print(Jiris)"
   ],
   "metadata": {
    "colab": {
     "base_uri": "https://localhost:8080/"
    },
    "id": "LnZy4f8e2OnL",
    "executionInfo": {
     "status": "ok",
     "timestamp": 1677853413713,
     "user_tz": 0,
     "elapsed": 3,
     "user": {
      "displayName": "David Walker",
      "userId": "07818026488201532539"
     }
    },
    "outputId": "5100d9e9-71a6-4b79-9bbd-8ec876db1671"
   },
   "execution_count": 18,
   "outputs": [
    {
     "name": "stdout",
     "output_type": "stream",
     "text": [
      "['a' 'b' 'c' 'd' 'e' 'f' 'g' 'h' 'i' 'j']\n",
      "[3 8 7 2 6 9 0 1 5 4]\n",
      "['d' 'i' 'h' 'c' 'g' 'j' 'a' 'b' 'f' 'e']\n",
      "[ 69 129 148 130 132   2  81   8 140  33  54 123  30  58 146 147  71  70\n",
      " 115  24  73  80 109 118   5  23  55 100  59 145  72  34  18 134  57  98\n",
      "  83  29 128   9 116  43 105  95  66  78  14  21  49 141 121 138 112  91\n",
      "  31  27 144  32  48  42 104  50 124  39  68  64  16 139  62   1  22 120\n",
      " 133   3  61  56  17  35  41  90 102 149  75 137  84  92 136  88  37  20\n",
      "  86  13  93 143 131  26 117  19  99  85 122  87  63   4  82 103  28 126\n",
      " 135  79  76  46  65   6  10 108 101 114  44  53  15  40  36 142  25   0\n",
      "  11 125 106 111 113  60  45   7  47  96  38  77  51  52 127  94  97 107\n",
      " 119 110  74  67  89  12]\n"
     ]
    }
   ]
  },
  {
   "cell_type": "code",
   "source": [
    "# Sort out the data into training/testing.\n",
    "\n",
    "I = np.random.permutation(len(iris.target))\n",
    "x_train = iris.data[I[:100]]\n",
    "t_train = iris.target[I[:100]]\n",
    "\n",
    "x_test = iris.data[I[100:]]\n",
    "t_test = iris.target[I[100:]]"
   ],
   "metadata": {
    "id": "mfHQ1lX14u4o",
    "executionInfo": {
     "status": "ok",
     "timestamp": 1677854095606,
     "user_tz": 0,
     "elapsed": 1,
     "user": {
      "displayName": "David Walker",
      "userId": "07818026488201532539"
     }
    }
   },
   "execution_count": 19,
   "outputs": []
  },
  {
   "cell_type": "code",
   "source": [
    "from sklearn.neural_network import MLPClassifier\n",
    "\n",
    "# Instantiate the NN.\n",
    "ann = MLPClassifier(max_iter=2000)\n",
    "\n",
    "# Train the NN.\n",
    "ann.fit(x_train, t_train)\n",
    "y_test = ann.predict(x_test)\n",
    "\n",
    "from sklearn.metrics import confusion_matrix\n",
    "\n",
    "C = confusion_matrix(t_test, y_test)\n",
    "plt.imshow(C)\n",
    "plt.xticks(np.arange(3), iris.target_names)\n",
    "plt.yticks(np.arange(3), iris.target_names)\n"
   ],
   "metadata": {
    "colab": {
     "base_uri": "https://localhost:8080/",
     "height": 334
    },
    "id": "9cXO0pDY1GYa",
    "executionInfo": {
     "status": "ok",
     "timestamp": 1677854322407,
     "user_tz": 0,
     "elapsed": 1367,
     "user": {
      "displayName": "David Walker",
      "userId": "07818026488201532539"
     }
    },
    "outputId": "100b9ce2-08ec-4216-8b04-a3b336524128"
   },
   "execution_count": 20,
   "outputs": [
    {
     "data": {
      "text/plain": "([<matplotlib.axis.YTick at 0x1c2ac06c7c0>,\n  <matplotlib.axis.YTick at 0x1c2ac0cdaf0>,\n  <matplotlib.axis.YTick at 0x1c2ac063a30>],\n [Text(0, 0, 'setosa'), Text(0, 1, 'versicolor'), Text(0, 2, 'virginica')])"
     },
     "execution_count": 20,
     "metadata": {},
     "output_type": "execute_result"
    },
    {
     "data": {
      "text/plain": "<Figure size 640x480 with 1 Axes>",
      "image/png": "[encoded data removed]"
     },
     "metadata": {},
     "output_type": "display_data"
    }
   ]
  },
  {
   "cell_type": "markdown",
   "source": [
    "# Multiple splits\n",
    "Now do it many times."
   ],
   "metadata": {
    "id": "uhfADD4Q7M5M"
   }
  },
  {
   "cell_type": "code",
   "source": [
    "from sklearn.metrics import accuracy_score"
   ],
   "metadata": {
    "id": "je1Q144H79H2",
    "executionInfo": {
     "status": "ok",
     "timestamp": 1677854768274,
     "user_tz": 0,
     "elapsed": 316,
     "user": {
      "displayName": "David Walker",
      "userId": "07818026488201532539"
     }
    }
   },
   "execution_count": 21,
   "outputs": []
  },
  {
   "cell_type": "code",
   "source": [
    "train_acc = []\n",
    "test_acc = []\n",
    "\n",
    "for i in range(30):\n",
    "  # Pick a random split of the data.\n",
    "  I = np.random.permutation(len(iris.target))\n",
    "  x_train = iris.data[I[:100]]\n",
    "  t_train = iris.target[I[:100]]\n",
    "\n",
    "  x_test = iris.data[I[100:]]\n",
    "  t_test = iris.target[I[100:]]\n",
    "\n",
    "  # Train the ANN.\n",
    "  ann = MLPClassifier()\n",
    "\n",
    "  # Train the NN.\n",
    "  ann.fit(x_train, t_train)\n",
    "  y_train = ann.predict(x_train)\n",
    "  y_test = ann.predict(x_test)\n",
    "\n",
    "  train_acc.append(accuracy_score(t_train, y_train))\n",
    "  test_acc.append(accuracy_score(t_test, y_test))\n",
    "\n",
    "print(test_acc)\n",
    "\n"
   ],
   "metadata": {
    "colab": {
     "base_uri": "https://localhost:8080/",
     "height": 563
    },
    "id": "xR8iJpCC7QwY",
    "executionInfo": {
     "status": "ok",
     "timestamp": 1677854993680,
     "user_tz": 0,
     "elapsed": 20002,
     "user": {
      "displayName": "David Walker",
      "userId": "07818026488201532539"
     }
    },
    "outputId": "174d99db-f998-436f-9c34-21c2568efd31"
   },
   "execution_count": 22,
   "outputs": [
    {
     "name": "stderr",
     "output_type": "stream",
     "text": [
      "C:\\Users\\nathan.savage\\PycharmProjects\\uni 2005 set exercises\\venv\\lib\\site-packages\\sklearn\\neural_network\\_multilayer_perceptron.py:684: ConvergenceWarning: Stochastic Optimizer: Maximum iterations (200) reached and the optimization hasn't converged yet.\n",
      "  warnings.warn(\n",
      "C:\\Users\\nathan.savage\\PycharmProjects\\uni 2005 set exercises\\venv\\lib\\site-packages\\sklearn\\neural_network\\_multilayer_perceptron.py:684: ConvergenceWarning: Stochastic Optimizer: Maximum iterations (200) reached and the optimization hasn't converged yet.\n",
      "  warnings.warn(\n",
      "C:\\Users\\nathan.savage\\PycharmProjects\\uni 2005 set exercises\\venv\\lib\\site-packages\\sklearn\\neural_network\\_multilayer_perceptron.py:684: ConvergenceWarning: Stochastic Optimizer: Maximum iterations (200) reached and the optimization hasn't converged yet.\n",
      "  warnings.warn(\n",
      "C:\\Users\\nathan.savage\\PycharmProjects\\uni 2005 set exercises\\venv\\lib\\site-packages\\sklearn\\neural_network\\_multilayer_perceptron.py:684: ConvergenceWarning: Stochastic Optimizer: Maximum iterations (200) reached and the optimization hasn't converged yet.\n",
      "  warnings.warn(\n",
      "C:\\Users\\nathan.savage\\PycharmProjects\\uni 2005 set exercises\\venv\\lib\\site-packages\\sklearn\\neural_network\\_multilayer_perceptron.py:684: ConvergenceWarning: Stochastic Optimizer: Maximum iterations (200) reached and the optimization hasn't converged yet.\n",
      "  warnings.warn(\n",
      "C:\\Users\\nathan.savage\\PycharmProjects\\uni 2005 set exercises\\venv\\lib\\site-packages\\sklearn\\neural_network\\_multilayer_perceptron.py:684: ConvergenceWarning: Stochastic Optimizer: Maximum iterations (200) reached and the optimization hasn't converged yet.\n",
      "  warnings.warn(\n",
      "C:\\Users\\nathan.savage\\PycharmProjects\\uni 2005 set exercises\\venv\\lib\\site-packages\\sklearn\\neural_network\\_multilayer_perceptron.py:684: ConvergenceWarning: Stochastic Optimizer: Maximum iterations (200) reached and the optimization hasn't converged yet.\n",
      "  warnings.warn(\n",
      "C:\\Users\\nathan.savage\\PycharmProjects\\uni 2005 set exercises\\venv\\lib\\site-packages\\sklearn\\neural_network\\_multilayer_perceptron.py:684: ConvergenceWarning: Stochastic Optimizer: Maximum iterations (200) reached and the optimization hasn't converged yet.\n",
      "  warnings.warn(\n",
      "C:\\Users\\nathan.savage\\PycharmProjects\\uni 2005 set exercises\\venv\\lib\\site-packages\\sklearn\\neural_network\\_multilayer_perceptron.py:684: ConvergenceWarning: Stochastic Optimizer: Maximum iterations (200) reached and the optimization hasn't converged yet.\n",
      "  warnings.warn(\n",
      "C:\\Users\\nathan.savage\\PycharmProjects\\uni 2005 set exercises\\venv\\lib\\site-packages\\sklearn\\neural_network\\_multilayer_perceptron.py:684: ConvergenceWarning: Stochastic Optimizer: Maximum iterations (200) reached and the optimization hasn't converged yet.\n",
      "  warnings.warn(\n",
      "C:\\Users\\nathan.savage\\PycharmProjects\\uni 2005 set exercises\\venv\\lib\\site-packages\\sklearn\\neural_network\\_multilayer_perceptron.py:684: ConvergenceWarning: Stochastic Optimizer: Maximum iterations (200) reached and the optimization hasn't converged yet.\n",
      "  warnings.warn(\n",
      "C:\\Users\\nathan.savage\\PycharmProjects\\uni 2005 set exercises\\venv\\lib\\site-packages\\sklearn\\neural_network\\_multilayer_perceptron.py:684: ConvergenceWarning: Stochastic Optimizer: Maximum iterations (200) reached and the optimization hasn't converged yet.\n",
      "  warnings.warn(\n",
      "C:\\Users\\nathan.savage\\PycharmProjects\\uni 2005 set exercises\\venv\\lib\\site-packages\\sklearn\\neural_network\\_multilayer_perceptron.py:684: ConvergenceWarning: Stochastic Optimizer: Maximum iterations (200) reached and the optimization hasn't converged yet.\n",
      "  warnings.warn(\n",
      "C:\\Users\\nathan.savage\\PycharmProjects\\uni 2005 set exercises\\venv\\lib\\site-packages\\sklearn\\neural_network\\_multilayer_perceptron.py:684: ConvergenceWarning: Stochastic Optimizer: Maximum iterations (200) reached and the optimization hasn't converged yet.\n",
      "  warnings.warn(\n",
      "C:\\Users\\nathan.savage\\PycharmProjects\\uni 2005 set exercises\\venv\\lib\\site-packages\\sklearn\\neural_network\\_multilayer_perceptron.py:684: ConvergenceWarning: Stochastic Optimizer: Maximum iterations (200) reached and the optimization hasn't converged yet.\n",
      "  warnings.warn(\n",
      "C:\\Users\\nathan.savage\\PycharmProjects\\uni 2005 set exercises\\venv\\lib\\site-packages\\sklearn\\neural_network\\_multilayer_perceptron.py:684: ConvergenceWarning: Stochastic Optimizer: Maximum iterations (200) reached and the optimization hasn't converged yet.\n",
      "  warnings.warn(\n",
      "C:\\Users\\nathan.savage\\PycharmProjects\\uni 2005 set exercises\\venv\\lib\\site-packages\\sklearn\\neural_network\\_multilayer_perceptron.py:684: ConvergenceWarning: Stochastic Optimizer: Maximum iterations (200) reached and the optimization hasn't converged yet.\n",
      "  warnings.warn(\n",
      "C:\\Users\\nathan.savage\\PycharmProjects\\uni 2005 set exercises\\venv\\lib\\site-packages\\sklearn\\neural_network\\_multilayer_perceptron.py:684: ConvergenceWarning: Stochastic Optimizer: Maximum iterations (200) reached and the optimization hasn't converged yet.\n",
      "  warnings.warn(\n",
      "C:\\Users\\nathan.savage\\PycharmProjects\\uni 2005 set exercises\\venv\\lib\\site-packages\\sklearn\\neural_network\\_multilayer_perceptron.py:684: ConvergenceWarning: Stochastic Optimizer: Maximum iterations (200) reached and the optimization hasn't converged yet.\n",
      "  warnings.warn(\n",
      "C:\\Users\\nathan.savage\\PycharmProjects\\uni 2005 set exercises\\venv\\lib\\site-packages\\sklearn\\neural_network\\_multilayer_perceptron.py:684: ConvergenceWarning: Stochastic Optimizer: Maximum iterations (200) reached and the optimization hasn't converged yet.\n",
      "  warnings.warn(\n",
      "C:\\Users\\nathan.savage\\PycharmProjects\\uni 2005 set exercises\\venv\\lib\\site-packages\\sklearn\\neural_network\\_multilayer_perceptron.py:684: ConvergenceWarning: Stochastic Optimizer: Maximum iterations (200) reached and the optimization hasn't converged yet.\n",
      "  warnings.warn(\n",
      "C:\\Users\\nathan.savage\\PycharmProjects\\uni 2005 set exercises\\venv\\lib\\site-packages\\sklearn\\neural_network\\_multilayer_perceptron.py:684: ConvergenceWarning: Stochastic Optimizer: Maximum iterations (200) reached and the optimization hasn't converged yet.\n",
      "  warnings.warn(\n",
      "C:\\Users\\nathan.savage\\PycharmProjects\\uni 2005 set exercises\\venv\\lib\\site-packages\\sklearn\\neural_network\\_multilayer_perceptron.py:684: ConvergenceWarning: Stochastic Optimizer: Maximum iterations (200) reached and the optimization hasn't converged yet.\n",
      "  warnings.warn(\n",
      "C:\\Users\\nathan.savage\\PycharmProjects\\uni 2005 set exercises\\venv\\lib\\site-packages\\sklearn\\neural_network\\_multilayer_perceptron.py:684: ConvergenceWarning: Stochastic Optimizer: Maximum iterations (200) reached and the optimization hasn't converged yet.\n",
      "  warnings.warn(\n",
      "C:\\Users\\nathan.savage\\PycharmProjects\\uni 2005 set exercises\\venv\\lib\\site-packages\\sklearn\\neural_network\\_multilayer_perceptron.py:684: ConvergenceWarning: Stochastic Optimizer: Maximum iterations (200) reached and the optimization hasn't converged yet.\n",
      "  warnings.warn(\n",
      "C:\\Users\\nathan.savage\\PycharmProjects\\uni 2005 set exercises\\venv\\lib\\site-packages\\sklearn\\neural_network\\_multilayer_perceptron.py:684: ConvergenceWarning: Stochastic Optimizer: Maximum iterations (200) reached and the optimization hasn't converged yet.\n",
      "  warnings.warn(\n",
      "C:\\Users\\nathan.savage\\PycharmProjects\\uni 2005 set exercises\\venv\\lib\\site-packages\\sklearn\\neural_network\\_multilayer_perceptron.py:684: ConvergenceWarning: Stochastic Optimizer: Maximum iterations (200) reached and the optimization hasn't converged yet.\n",
      "  warnings.warn(\n"
     ]
    },
    {
     "name": "stdout",
     "output_type": "stream",
     "text": [
      "[0.9, 0.98, 0.98, 0.96, 0.98, 1.0, 0.98, 0.96, 0.96, 0.96, 1.0, 0.96, 0.98, 1.0, 0.96, 0.98, 0.98, 1.0, 0.96, 0.96, 0.98, 0.98, 0.96, 0.96, 1.0, 1.0, 0.98, 1.0, 1.0, 0.98]\n"
     ]
    },
    {
     "name": "stderr",
     "output_type": "stream",
     "text": [
      "C:\\Users\\nathan.savage\\PycharmProjects\\uni 2005 set exercises\\venv\\lib\\site-packages\\sklearn\\neural_network\\_multilayer_perceptron.py:684: ConvergenceWarning: Stochastic Optimizer: Maximum iterations (200) reached and the optimization hasn't converged yet.\n",
      "  warnings.warn(\n",
      "C:\\Users\\nathan.savage\\PycharmProjects\\uni 2005 set exercises\\venv\\lib\\site-packages\\sklearn\\neural_network\\_multilayer_perceptron.py:684: ConvergenceWarning: Stochastic Optimizer: Maximum iterations (200) reached and the optimization hasn't converged yet.\n",
      "  warnings.warn(\n",
      "C:\\Users\\nathan.savage\\PycharmProjects\\uni 2005 set exercises\\venv\\lib\\site-packages\\sklearn\\neural_network\\_multilayer_perceptron.py:684: ConvergenceWarning: Stochastic Optimizer: Maximum iterations (200) reached and the optimization hasn't converged yet.\n",
      "  warnings.warn(\n"
     ]
    }
   ]
  },
  {
   "cell_type": "code",
   "source": [
    "plt.boxplot([train_acc, test_acc])\n",
    "plt.xlabel(\"(1) train, (2) test\")\n",
    "plt.ylabel(\"Accuracy (0-1, 1 is best)\")"
   ],
   "metadata": {
    "colab": {
     "base_uri": "https://localhost:8080/",
     "height": 296
    },
    "id": "-IvGbNt284o7",
    "executionInfo": {
     "status": "ok",
     "timestamp": 1677855074983,
     "user_tz": 0,
     "elapsed": 366,
     "user": {
      "displayName": "David Walker",
      "userId": "07818026488201532539"
     }
    },
    "outputId": "87c4a6e4-181b-4e6d-ea14-a72082e5264b"
   },
   "execution_count": 23,
   "outputs": [
    {
     "data": {
      "text/plain": "Text(0, 0.5, 'Accuracy (0-1, 1 is best)')"
     },
     "execution_count": 23,
     "metadata": {},
     "output_type": "execute_result"
    },
    {
     "data": {
      "text/plain": "<Figure size 640x480 with 1 Axes>",
      "image/png": "[encoded data removed]"
     },
     "metadata": {},
     "output_type": "display_data"
    }
   ]
  },
  {
   "cell_type": "markdown",
   "source": [
    "# Deep learning - now for something completely different."
   ],
   "metadata": {
    "id": "6c_S9jyYBJpQ"
   }
  },
  {
   "cell_type": "code",
   "source": [
    "import tensorflow as tf\n",
    "from tensorflow.keras import layers"
   ],
   "metadata": {
    "id": "vXxinpzcBPwZ",
    "executionInfo": {
     "status": "ok",
     "timestamp": 1677856247073,
     "user_tz": 0,
     "elapsed": 803,
     "user": {
      "displayName": "David Walker",
      "userId": "07818026488201532539"
     }
    }
   },
   "execution_count": 24,
   "outputs": []
  },
  {
   "cell_type": "code",
   "source": [
    "inputs = tf.keras.Input(shape=(784,))"
   ],
   "metadata": {
    "id": "WGA2EhEoBpfX",
    "executionInfo": {
     "status": "ok",
     "timestamp": 1677856566063,
     "user_tz": 0,
     "elapsed": 372,
     "user": {
      "displayName": "David Walker",
      "userId": "07818026488201532539"
     }
    }
   },
   "execution_count": 25,
   "outputs": []
  },
  {
   "cell_type": "code",
   "source": [
    "dense = layers.Dense(64, activation=\"relu\")\n",
    "x = dense(inputs)"
   ],
   "metadata": {
    "id": "JIs-38ZUCYmS",
    "executionInfo": {
     "status": "ok",
     "timestamp": 1677856569058,
     "user_tz": 0,
     "elapsed": 339,
     "user": {
      "displayName": "David Walker",
      "userId": "07818026488201532539"
     }
    }
   },
   "execution_count": 26,
   "outputs": []
  },
  {
   "cell_type": "code",
   "source": [
    "dense = layers.Dense(64, activation=\"relu\")\n",
    "outputs = layers.Dense(10)(x)"
   ],
   "metadata": {
    "id": "uJL2yNvzC6XY",
    "executionInfo": {
     "status": "ok",
     "timestamp": 1677856662016,
     "user_tz": 0,
     "elapsed": 373,
     "user": {
      "displayName": "David Walker",
      "userId": "07818026488201532539"
     }
    }
   },
   "execution_count": 27,
   "outputs": []
  },
  {
   "cell_type": "markdown",
   "source": [
    "We've now defined our layers - now build the model."
   ],
   "metadata": {
    "id": "ZDUczDM7DPnS"
   }
  },
  {
   "cell_type": "code",
   "source": [
    "model = tf.keras.Model(inputs=inputs, outputs=outputs, name=\"mnist_model\")\n",
    "model.summary()"
   ],
   "metadata": {
    "colab": {
     "base_uri": "https://localhost:8080/"
    },
    "id": "4wCOGmGnDSqi",
    "executionInfo": {
     "status": "ok",
     "timestamp": 1677856749841,
     "user_tz": 0,
     "elapsed": 5,
     "user": {
      "displayName": "David Walker",
      "userId": "07818026488201532539"
     }
    },
    "outputId": "53c2f739-f6fb-48aa-bdad-8ca1db23a638"
   },
   "execution_count": 28,
   "outputs": [
    {
     "name": "stdout",
     "output_type": "stream",
     "text": [
      "Model: \"mnist_model\"\n",
      "_________________________________________________________________\n",
      " Layer (type)                Output Shape              Param #   \n",
      "=================================================================\n",
      " input_1 (InputLayer)        [(None, 784)]             0         \n",
      "                                                                 \n",
      " dense (Dense)               (None, 64)                50240     \n",
      "                                                                 \n",
      " dense_2 (Dense)             (None, 10)                650       \n",
      "                                                                 \n",
      "=================================================================\n",
      "Total params: 50,890\n",
      "Trainable params: 50,890\n",
      "Non-trainable params: 0\n",
      "_________________________________________________________________\n"
     ]
    }
   ]
  },
  {
   "cell_type": "code",
   "source": [
    "(x_train, t_train), (x_test, t_test) = tf.keras.datasets.mnist.load_data()\n",
    "\n",
    "x_train = x_train.reshape(60000, 784).astype(\"float\") / 255\n",
    "x_test = x_test.reshape(10000, 784).astype(\"float\") / 255"
   ],
   "metadata": {
    "colab": {
     "base_uri": "https://localhost:8080/"
    },
    "id": "jkQzTmniEhHb",
    "executionInfo": {
     "status": "ok",
     "timestamp": 1677857084522,
     "user_tz": 0,
     "elapsed": 3292,
     "user": {
      "displayName": "David Walker",
      "userId": "07818026488201532539"
     }
    },
    "outputId": "876aeeb6-ac57-4abb-e7ff-385e0a328fef"
   },
   "execution_count": 29,
   "outputs": [
    {
     "name": "stdout",
     "output_type": "stream",
     "text": [
      "Downloading data from https://storage.googleapis.com/tensorflow/tf-keras-datasets/mnist.npz\n",
      "11490434/11490434 [==============================] - 1s 0us/step\n"
     ]
    }
   ]
  },
  {
   "cell_type": "code",
   "source": [
    "model.compile(\n",
    "    loss = tf.keras.losses.SparseCategoricalCrossentropy(from_logits=True),\n",
    "    optimizer = tf.keras.optimizers.RMSprop(),\n",
    "    metrics = [\"accuracy\"]\n",
    ")"
   ],
   "metadata": {
    "id": "7hx3VT61FG0L",
    "executionInfo": {
     "status": "ok",
     "timestamp": 1677857279645,
     "user_tz": 0,
     "elapsed": 317,
     "user": {
      "displayName": "David Walker",
      "userId": "07818026488201532539"
     }
    }
   },
   "execution_count": 30,
   "outputs": []
  },
  {
   "cell_type": "code",
   "source": [
    "history = model.fit(x_train, t_train, batch_size=64, epochs=2, validation_split=0.2)\n",
    "\n",
    "test_scores = model.evaluate(x_test, t_test, verbose=True)\n",
    "print(f\"Test accuracy: {test_scores}\")"
   ],
   "metadata": {
    "colab": {
     "base_uri": "https://localhost:8080/"
    },
    "id": "3ZVjoSDQFxg8",
    "executionInfo": {
     "status": "ok",
     "timestamp": 1677857561783,
     "user_tz": 0,
     "elapsed": 11836,
     "user": {
      "displayName": "David Walker",
      "userId": "07818026488201532539"
     }
    },
    "outputId": "986958b4-2597-4d14-b022-ba3990446047"
   },
   "execution_count": 31,
   "outputs": [
    {
     "name": "stdout",
     "output_type": "stream",
     "text": [
      "Epoch 1/2\n",
      "750/750 [==============================] - 3s 3ms/step - loss: 0.3645 - accuracy: 0.9003 - val_loss: 0.2229 - val_accuracy: 0.9367\n",
      "Epoch 2/2\n",
      "750/750 [==============================] - 2s 2ms/step - loss: 0.1899 - accuracy: 0.9453 - val_loss: 0.1626 - val_accuracy: 0.9548\n",
      "313/313 [==============================] - 0s 1ms/step - loss: 0.1605 - accuracy: 0.9526\n",
      "Test accuracy: [0.16050222516059875, 0.9526000022888184]\n"
     ]
    }
   ]
  },
  {
   "cell_type": "code",
   "source": [
    "# Produce a confusion matrix for the DL model.\n",
    "y_test = model.predict(x_test).argmax(axis=1)\n",
    "\n",
    "C = confusion_matrix(t_test, y_test)\n",
    "plt.imshow(C)"
   ],
   "metadata": {
    "colab": {
     "base_uri": "https://localhost:8080/",
     "height": 300
    },
    "id": "ZjPg5HlsGvQt",
    "executionInfo": {
     "status": "ok",
     "timestamp": 1677857785391,
     "user_tz": 0,
     "elapsed": 2339,
     "user": {
      "displayName": "David Walker",
      "userId": "07818026488201532539"
     }
    },
    "outputId": "10d59ca7-16fa-4656-e675-db6c0efef408"
   },
   "execution_count": 32,
   "outputs": [
    {
     "name": "stdout",
     "output_type": "stream",
     "text": [
      "313/313 [==============================] - 0s 1ms/step\n"
     ]
    },
    {
     "data": {
      "text/plain": "<matplotlib.image.AxesImage at 0x1c2ba09ad90>"
     },
     "execution_count": 32,
     "metadata": {},
     "output_type": "execute_result"
    },
    {
     "data": {
      "text/plain": "<Figure size 640x480 with 1 Axes>",
      "image/png": "[encoded data removed]"
     },
     "metadata": {},
     "output_type": "display_data"
    }
   ]
  }
 ]
}
